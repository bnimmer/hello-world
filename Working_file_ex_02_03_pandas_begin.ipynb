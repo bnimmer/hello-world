{
  "nbformat": 4,
  "nbformat_minor": 0,
  "metadata": {
    "colab": {
      "name": "Working file ex_02_03_pandas_begin.ipynb",
      "version": "0.3.2",
      "provenance": [],
      "toc_visible": true,
      "include_colab_link": true
    },
    "language_info": {
      "codemirror_mode": {
        "name": "ipython",
        "version": 3
      },
      "file_extension": ".py",
      "mimetype": "text/x-python",
      "name": "python",
      "nbconvert_exporter": "python",
      "pygments_lexer": "ipython3",
      "version": "3.6.4"
    },
    "kernelspec": {
      "display_name": "Python 3",
      "language": "python",
      "name": "python3"
    }
  },
  "cells": [
    {
      "cell_type": "markdown",
      "metadata": {
        "id": "view-in-github",
        "colab_type": "text"
      },
      "source": [
        "<a href=\"https://colab.research.google.com/github/bnimmer/hello-world/blob/master/Working_file_ex_02_03_pandas_begin.ipynb\" target=\"_parent\"><img src=\"https://colab.research.google.com/assets/colab-badge.svg\" alt=\"Open In Colab\"/></a>"
      ]
    },
    {
      "metadata": {
        "id": "KNjhKT1LkInU",
        "colab_type": "text"
      },
      "cell_type": "markdown",
      "source": [
        "## Python statistics essential training - 02_03_pandas"
      ]
    },
    {
      "metadata": {
        "id": "fLeJE-d8kInl",
        "colab_type": "text"
      },
      "cell_type": "markdown",
      "source": [
        "Standard imports"
      ]
    },
    {
      "metadata": {
        "id": "-cFudgg6kInu",
        "colab_type": "code",
        "colab": {}
      },
      "cell_type": "code",
      "source": [
        "import numpy as np\n",
        "import pandas as pd\n",
        "\n",
        "import matplotlib\n",
        "import matplotlib.pyplot as pp\n",
        "\n",
        "%matplotlib inline"
      ],
      "execution_count": 0,
      "outputs": []
    },
    {
      "metadata": {
        "id": "3KFLVTtCl7bA",
        "colab_type": "code",
        "colab": {
          "base_uri": "https://localhost:8080/",
          "height": 122
        },
        "outputId": "11b2c3b2-20ff-4865-98d8-95efa91866b1"
      },
      "cell_type": "code",
      "source": [
        "from google.colab import drive\n",
        "drive.mount('/content/drive')"
      ],
      "execution_count": 5,
      "outputs": [
        {
          "output_type": "stream",
          "text": [
            "Go to this URL in a browser: https://accounts.google.com/o/oauth2/auth?client_id=947318989803-6bn6qk8qdgf4n4g3pfee6491hc0brc4i.apps.googleusercontent.com&redirect_uri=urn%3Aietf%3Awg%3Aoauth%3A2.0%3Aoob&scope=email%20https%3A%2F%2Fwww.googleapis.com%2Fauth%2Fdocs.test%20https%3A%2F%2Fwww.googleapis.com%2Fauth%2Fdrive%20https%3A%2F%2Fwww.googleapis.com%2Fauth%2Fdrive.photos.readonly%20https%3A%2F%2Fwww.googleapis.com%2Fauth%2Fpeopleapi.readonly&response_type=code\n",
            "\n",
            "Enter your authorization code:\n",
            "··········\n",
            "Mounted at /content/drive\n"
          ],
          "name": "stdout"
        }
      ]
    },
    {
      "metadata": {
        "id": "hMm-A5_cwxga",
        "colab_type": "text"
      },
      "cell_type": "markdown",
      "source": [
        "The above method works in principal, but raised errors with data parsing when used on the same file as with the method described below."
      ]
    },
    {
      "metadata": {
        "id": "pt3RC6n1n81O",
        "colab_type": "code",
        "colab": {}
      },
      "cell_type": "code",
      "source": [
        "planets = pd.read_csv('test_planets.csv')"
      ],
      "execution_count": 0,
      "outputs": []
    },
    {
      "metadata": {
        "id": "SGb8xuKkrP_-",
        "colab_type": "code",
        "colab": {
          "base_uri": "https://localhost:8080/",
          "height": 379
        },
        "outputId": "e059df07-2d72-4a90-f3ce-31a2ff0949fa"
      },
      "cell_type": "code",
      "source": [
        "planets"
      ],
      "execution_count": 15,
      "outputs": [
        {
          "output_type": "execute_result",
          "data": {
            "text/html": [
              "<div>\n",
              "<style scoped>\n",
              "    .dataframe tbody tr th:only-of-type {\n",
              "        vertical-align: middle;\n",
              "    }\n",
              "\n",
              "    .dataframe tbody tr th {\n",
              "        vertical-align: top;\n",
              "    }\n",
              "\n",
              "    .dataframe thead th {\n",
              "        text-align: right;\n",
              "    }\n",
              "</style>\n",
              "<table border=\"1\" class=\"dataframe\">\n",
              "  <thead>\n",
              "    <tr style=\"text-align: right;\">\n",
              "      <th></th>\n",
              "      <th>Planet</th>\n",
              "      <th>Mass</th>\n",
              "      <th>Diameter</th>\n",
              "      <th>DayLength</th>\n",
              "      <th>SunDistance</th>\n",
              "      <th>OrbitPeriod</th>\n",
              "      <th>OrbitVelocity</th>\n",
              "      <th>MeanTemperature</th>\n",
              "      <th>SurfacePressure</th>\n",
              "      <th>Moons</th>\n",
              "      <th>Rings</th>\n",
              "      <th>MagneticField</th>\n",
              "      <th>FirstVisited</th>\n",
              "      <th>FirstMission</th>\n",
              "    </tr>\n",
              "  </thead>\n",
              "  <tbody>\n",
              "    <tr>\n",
              "      <th>0</th>\n",
              "      <td>MERCURY</td>\n",
              "      <td>0.3300</td>\n",
              "      <td>4879</td>\n",
              "      <td>4222.6</td>\n",
              "      <td>57.9</td>\n",
              "      <td>88</td>\n",
              "      <td>47.4</td>\n",
              "      <td>167</td>\n",
              "      <td>0.00000</td>\n",
              "      <td>0</td>\n",
              "      <td>No</td>\n",
              "      <td>Yes</td>\n",
              "      <td>1974-03-29</td>\n",
              "      <td>Mariner 10</td>\n",
              "    </tr>\n",
              "    <tr>\n",
              "      <th>1</th>\n",
              "      <td>VENUS</td>\n",
              "      <td>4.8700</td>\n",
              "      <td>12,104</td>\n",
              "      <td>2802.0</td>\n",
              "      <td>108.2</td>\n",
              "      <td>224.7</td>\n",
              "      <td>35.0</td>\n",
              "      <td>464</td>\n",
              "      <td>92.00000</td>\n",
              "      <td>0</td>\n",
              "      <td>No</td>\n",
              "      <td>No</td>\n",
              "      <td>1962-08-27</td>\n",
              "      <td>Mariner 2</td>\n",
              "    </tr>\n",
              "    <tr>\n",
              "      <th>2</th>\n",
              "      <td>EARTH</td>\n",
              "      <td>5.9700</td>\n",
              "      <td>12,756</td>\n",
              "      <td>24.0</td>\n",
              "      <td>149.6</td>\n",
              "      <td>365.2</td>\n",
              "      <td>29.8</td>\n",
              "      <td>15</td>\n",
              "      <td>1.00000</td>\n",
              "      <td>1</td>\n",
              "      <td>No</td>\n",
              "      <td>Yes</td>\n",
              "      <td>NaN</td>\n",
              "      <td>NaN</td>\n",
              "    </tr>\n",
              "    <tr>\n",
              "      <th>3</th>\n",
              "      <td>MOON</td>\n",
              "      <td>0.0730</td>\n",
              "      <td>3475</td>\n",
              "      <td>708.7</td>\n",
              "      <td>NaN</td>\n",
              "      <td>27.3</td>\n",
              "      <td>1.0</td>\n",
              "      <td>-20</td>\n",
              "      <td>0.00000</td>\n",
              "      <td>0</td>\n",
              "      <td>No</td>\n",
              "      <td>No</td>\n",
              "      <td>1959-09-12</td>\n",
              "      <td>Luna 2</td>\n",
              "    </tr>\n",
              "    <tr>\n",
              "      <th>4</th>\n",
              "      <td>MARS</td>\n",
              "      <td>0.6420</td>\n",
              "      <td>6792</td>\n",
              "      <td>24.7</td>\n",
              "      <td>227.9</td>\n",
              "      <td>687</td>\n",
              "      <td>24.1</td>\n",
              "      <td>-65</td>\n",
              "      <td>0.01000</td>\n",
              "      <td>2</td>\n",
              "      <td>No</td>\n",
              "      <td>No</td>\n",
              "      <td>1965-07-15</td>\n",
              "      <td>Mariner 4</td>\n",
              "    </tr>\n",
              "    <tr>\n",
              "      <th>5</th>\n",
              "      <td>JUPITER</td>\n",
              "      <td>1898.0000</td>\n",
              "      <td>142,984</td>\n",
              "      <td>9.9</td>\n",
              "      <td>778.6</td>\n",
              "      <td>4331</td>\n",
              "      <td>13.1</td>\n",
              "      <td>-110</td>\n",
              "      <td>NaN</td>\n",
              "      <td>67</td>\n",
              "      <td>Yes</td>\n",
              "      <td>Yes</td>\n",
              "      <td>1973-12-04</td>\n",
              "      <td>Pioneer 10</td>\n",
              "    </tr>\n",
              "    <tr>\n",
              "      <th>6</th>\n",
              "      <td>SATURN</td>\n",
              "      <td>568.0000</td>\n",
              "      <td>120,536</td>\n",
              "      <td>10.7</td>\n",
              "      <td>1433.5</td>\n",
              "      <td>10,747</td>\n",
              "      <td>9.7</td>\n",
              "      <td>-140</td>\n",
              "      <td>NaN</td>\n",
              "      <td>62</td>\n",
              "      <td>Yes</td>\n",
              "      <td>Yes</td>\n",
              "      <td>1979-09-01</td>\n",
              "      <td>Pioneer 11</td>\n",
              "    </tr>\n",
              "    <tr>\n",
              "      <th>7</th>\n",
              "      <td>URANUS</td>\n",
              "      <td>86.8000</td>\n",
              "      <td>51,118</td>\n",
              "      <td>17.2</td>\n",
              "      <td>2872.5</td>\n",
              "      <td>30,589</td>\n",
              "      <td>6.8</td>\n",
              "      <td>-195</td>\n",
              "      <td>NaN</td>\n",
              "      <td>27</td>\n",
              "      <td>Yes</td>\n",
              "      <td>Yes</td>\n",
              "      <td>1986-01-24</td>\n",
              "      <td>Voyager 2</td>\n",
              "    </tr>\n",
              "    <tr>\n",
              "      <th>8</th>\n",
              "      <td>NEPTUNE</td>\n",
              "      <td>102.0000</td>\n",
              "      <td>49,528</td>\n",
              "      <td>16.1</td>\n",
              "      <td>4495.1</td>\n",
              "      <td>59,800</td>\n",
              "      <td>5.4</td>\n",
              "      <td>-200</td>\n",
              "      <td>NaN</td>\n",
              "      <td>14</td>\n",
              "      <td>Yes</td>\n",
              "      <td>Yes</td>\n",
              "      <td>1989-08-25</td>\n",
              "      <td>Voyager 2</td>\n",
              "    </tr>\n",
              "    <tr>\n",
              "      <th>9</th>\n",
              "      <td>PLUTO</td>\n",
              "      <td>0.0146</td>\n",
              "      <td>2370</td>\n",
              "      <td>153.3</td>\n",
              "      <td>5906.4</td>\n",
              "      <td>90,560</td>\n",
              "      <td>4.7</td>\n",
              "      <td>-225</td>\n",
              "      <td>0.00001</td>\n",
              "      <td>5</td>\n",
              "      <td>No</td>\n",
              "      <td>NaN</td>\n",
              "      <td>2015-07-14</td>\n",
              "      <td>New Horizons</td>\n",
              "    </tr>\n",
              "  </tbody>\n",
              "</table>\n",
              "</div>"
            ],
            "text/plain": [
              "    Planet       Mass Diameter  DayLength  SunDistance OrbitPeriod  \\\n",
              "0  MERCURY     0.3300     4879     4222.6         57.9          88   \n",
              "1    VENUS     4.8700   12,104     2802.0        108.2       224.7   \n",
              "2    EARTH     5.9700   12,756       24.0        149.6       365.2   \n",
              "3     MOON     0.0730     3475      708.7          NaN        27.3   \n",
              "4     MARS     0.6420     6792       24.7        227.9         687   \n",
              "5  JUPITER  1898.0000  142,984        9.9        778.6        4331   \n",
              "6   SATURN   568.0000  120,536       10.7       1433.5      10,747   \n",
              "7   URANUS    86.8000   51,118       17.2       2872.5      30,589   \n",
              "8  NEPTUNE   102.0000   49,528       16.1       4495.1      59,800   \n",
              "9    PLUTO     0.0146     2370      153.3       5906.4      90,560   \n",
              "\n",
              "   OrbitVelocity  MeanTemperature  SurfacePressure  Moons Rings MagneticField  \\\n",
              "0           47.4              167          0.00000      0    No           Yes   \n",
              "1           35.0              464         92.00000      0    No            No   \n",
              "2           29.8               15          1.00000      1    No           Yes   \n",
              "3            1.0              -20          0.00000      0    No            No   \n",
              "4           24.1              -65          0.01000      2    No            No   \n",
              "5           13.1             -110              NaN     67   Yes           Yes   \n",
              "6            9.7             -140              NaN     62   Yes           Yes   \n",
              "7            6.8             -195              NaN     27   Yes           Yes   \n",
              "8            5.4             -200              NaN     14   Yes           Yes   \n",
              "9            4.7             -225          0.00001      5    No           NaN   \n",
              "\n",
              "  FirstVisited  FirstMission  \n",
              "0   1974-03-29    Mariner 10  \n",
              "1   1962-08-27     Mariner 2  \n",
              "2          NaN           NaN  \n",
              "3   1959-09-12        Luna 2  \n",
              "4   1965-07-15     Mariner 4  \n",
              "5   1973-12-04    Pioneer 10  \n",
              "6   1979-09-01    Pioneer 11  \n",
              "7   1986-01-24     Voyager 2  \n",
              "8   1989-08-25     Voyager 2  \n",
              "9   2015-07-14  New Horizons  "
            ]
          },
          "metadata": {
            "tags": []
          },
          "execution_count": 15
        }
      ]
    },
    {
      "metadata": {
        "id": "d5FKGaKov-qc",
        "colab_type": "text"
      },
      "cell_type": "markdown",
      "source": [
        "Upload data to the instance of Jupiter notebook that is running. It is stored in the \"content folder\".\n",
        "To re-run the notebook, the content has to be re-loaded after the instance was killed. (end of session.)\n",
        "\n",
        "---\n",
        "\n"
      ]
    },
    {
      "metadata": {
        "id": "nQ1yQb4iwSuV",
        "colab_type": "code",
        "colab": {}
      },
      "cell_type": "code",
      "source": [
        "planets = pd.read_csv('test_planets.csv',usecols=(0,1,2,3))"
      ],
      "execution_count": 0,
      "outputs": []
    },
    {
      "metadata": {
        "id": "bLJY5CIUxn_Z",
        "colab_type": "code",
        "colab": {
          "base_uri": "https://localhost:8080/",
          "height": 359
        },
        "outputId": "8b34c9e9-42cb-4ee4-ab53-8e606e5c3afa"
      },
      "cell_type": "code",
      "source": [
        "planets"
      ],
      "execution_count": 19,
      "outputs": [
        {
          "output_type": "execute_result",
          "data": {
            "text/html": [
              "<div>\n",
              "<style scoped>\n",
              "    .dataframe tbody tr th:only-of-type {\n",
              "        vertical-align: middle;\n",
              "    }\n",
              "\n",
              "    .dataframe tbody tr th {\n",
              "        vertical-align: top;\n",
              "    }\n",
              "\n",
              "    .dataframe thead th {\n",
              "        text-align: right;\n",
              "    }\n",
              "</style>\n",
              "<table border=\"1\" class=\"dataframe\">\n",
              "  <thead>\n",
              "    <tr style=\"text-align: right;\">\n",
              "      <th></th>\n",
              "      <th>Planet</th>\n",
              "      <th>Mass</th>\n",
              "      <th>Diameter</th>\n",
              "      <th>DayLength</th>\n",
              "    </tr>\n",
              "  </thead>\n",
              "  <tbody>\n",
              "    <tr>\n",
              "      <th>0</th>\n",
              "      <td>MERCURY</td>\n",
              "      <td>0.3300</td>\n",
              "      <td>4879</td>\n",
              "      <td>4222.6</td>\n",
              "    </tr>\n",
              "    <tr>\n",
              "      <th>1</th>\n",
              "      <td>VENUS</td>\n",
              "      <td>4.8700</td>\n",
              "      <td>12,104</td>\n",
              "      <td>2802.0</td>\n",
              "    </tr>\n",
              "    <tr>\n",
              "      <th>2</th>\n",
              "      <td>EARTH</td>\n",
              "      <td>5.9700</td>\n",
              "      <td>12,756</td>\n",
              "      <td>24.0</td>\n",
              "    </tr>\n",
              "    <tr>\n",
              "      <th>3</th>\n",
              "      <td>MOON</td>\n",
              "      <td>0.0730</td>\n",
              "      <td>3475</td>\n",
              "      <td>708.7</td>\n",
              "    </tr>\n",
              "    <tr>\n",
              "      <th>4</th>\n",
              "      <td>MARS</td>\n",
              "      <td>0.6420</td>\n",
              "      <td>6792</td>\n",
              "      <td>24.7</td>\n",
              "    </tr>\n",
              "    <tr>\n",
              "      <th>5</th>\n",
              "      <td>JUPITER</td>\n",
              "      <td>1898.0000</td>\n",
              "      <td>142,984</td>\n",
              "      <td>9.9</td>\n",
              "    </tr>\n",
              "    <tr>\n",
              "      <th>6</th>\n",
              "      <td>SATURN</td>\n",
              "      <td>568.0000</td>\n",
              "      <td>120,536</td>\n",
              "      <td>10.7</td>\n",
              "    </tr>\n",
              "    <tr>\n",
              "      <th>7</th>\n",
              "      <td>URANUS</td>\n",
              "      <td>86.8000</td>\n",
              "      <td>51,118</td>\n",
              "      <td>17.2</td>\n",
              "    </tr>\n",
              "    <tr>\n",
              "      <th>8</th>\n",
              "      <td>NEPTUNE</td>\n",
              "      <td>102.0000</td>\n",
              "      <td>49,528</td>\n",
              "      <td>16.1</td>\n",
              "    </tr>\n",
              "    <tr>\n",
              "      <th>9</th>\n",
              "      <td>PLUTO</td>\n",
              "      <td>0.0146</td>\n",
              "      <td>2370</td>\n",
              "      <td>153.3</td>\n",
              "    </tr>\n",
              "  </tbody>\n",
              "</table>\n",
              "</div>"
            ],
            "text/plain": [
              "    Planet       Mass Diameter  DayLength\n",
              "0  MERCURY     0.3300     4879     4222.6\n",
              "1    VENUS     4.8700   12,104     2802.0\n",
              "2    EARTH     5.9700   12,756       24.0\n",
              "3     MOON     0.0730     3475      708.7\n",
              "4     MARS     0.6420     6792       24.7\n",
              "5  JUPITER  1898.0000  142,984        9.9\n",
              "6   SATURN   568.0000  120,536       10.7\n",
              "7   URANUS    86.8000   51,118       17.2\n",
              "8  NEPTUNE   102.0000   49,528       16.1\n",
              "9    PLUTO     0.0146     2370      153.3"
            ]
          },
          "metadata": {
            "tags": []
          },
          "execution_count": 19
        }
      ]
    },
    {
      "metadata": {
        "id": "eOnLDZO2x181",
        "colab_type": "text"
      },
      "cell_type": "markdown",
      "source": [
        "Here we use \"usecols=(0,1,2,..)\" to reduce the dataset to the columns specified. NOTE: the columns are defined by index => starting at 0."
      ]
    },
    {
      "metadata": {
        "id": "ryoThmaPzCck",
        "colab_type": "code",
        "colab": {
          "base_uri": "https://localhost:8080/",
          "height": 204
        },
        "outputId": "f781ba8f-e2b9-414f-b440-7a09c76bf4af"
      },
      "cell_type": "code",
      "source": [
        "planets['Mass']"
      ],
      "execution_count": 21,
      "outputs": [
        {
          "output_type": "execute_result",
          "data": {
            "text/plain": [
              "0       0.3300\n",
              "1       4.8700\n",
              "2       5.9700\n",
              "3       0.0730\n",
              "4       0.6420\n",
              "5    1898.0000\n",
              "6     568.0000\n",
              "7      86.8000\n",
              "8     102.0000\n",
              "9       0.0146\n",
              "Name: Mass, dtype: float64"
            ]
          },
          "metadata": {
            "tags": []
          },
          "execution_count": 21
        }
      ]
    },
    {
      "metadata": {
        "id": "gCje-v7LzXuB",
        "colab_type": "text"
      },
      "cell_type": "markdown",
      "source": [
        "Show just one column and define it by Column name"
      ]
    },
    {
      "metadata": {
        "id": "0eWlXjyjzlhO",
        "colab_type": "code",
        "colab": {
          "base_uri": "https://localhost:8080/",
          "height": 204
        },
        "outputId": "0bb9f1b7-d4a2-447f-a2f6-7321a963d898"
      },
      "cell_type": "code",
      "source": [
        "planets.Mass"
      ],
      "execution_count": 25,
      "outputs": [
        {
          "output_type": "execute_result",
          "data": {
            "text/plain": [
              "0       0.3300\n",
              "1       4.8700\n",
              "2       5.9700\n",
              "3       0.0730\n",
              "4       0.6420\n",
              "5    1898.0000\n",
              "6     568.0000\n",
              "7      86.8000\n",
              "8     102.0000\n",
              "9       0.0146\n",
              "Name: Mass, dtype: float64"
            ]
          },
          "metadata": {
            "tags": []
          },
          "execution_count": 25
        }
      ]
    },
    {
      "metadata": {
        "id": "7YHOtJnW0RkS",
        "colab_type": "text"
      },
      "cell_type": "markdown",
      "source": [
        "This is the dot notation to show a column => same result as the above method of calling planets ['Mass']"
      ]
    },
    {
      "metadata": {
        "id": "hlf0kQGA0v5n",
        "colab_type": "code",
        "colab": {
          "base_uri": "https://localhost:8080/",
          "height": 34
        },
        "outputId": "f64589d3-ea07-4e1b-877b-1222b23428b0"
      },
      "cell_type": "code",
      "source": [
        "planets.index"
      ],
      "execution_count": 27,
      "outputs": [
        {
          "output_type": "execute_result",
          "data": {
            "text/plain": [
              "RangeIndex(start=0, stop=10, step=1)"
            ]
          },
          "metadata": {
            "tags": []
          },
          "execution_count": 27
        }
      ]
    },
    {
      "metadata": {
        "id": "iWKa0Olb0xhY",
        "colab_type": "code",
        "colab": {
          "base_uri": "https://localhost:8080/",
          "height": 102
        },
        "outputId": "f888fc89-d2a1-4cb0-a5ff-ab82a838b3d6"
      },
      "cell_type": "code",
      "source": [
        "planets.loc[0]"
      ],
      "execution_count": 31,
      "outputs": [
        {
          "output_type": "execute_result",
          "data": {
            "text/plain": [
              "Planet       MERCURY\n",
              "Mass            0.33\n",
              "Diameter        4879\n",
              "DayLength     4222.6\n",
              "Name: 0, dtype: object"
            ]
          },
          "metadata": {
            "tags": []
          },
          "execution_count": 31
        }
      ]
    },
    {
      "metadata": {
        "id": "0NpbObgp14Ul",
        "colab_type": "text"
      },
      "cell_type": "markdown",
      "source": [
        "To show a particular row, as per index use the dot notation with the loc[x] method."
      ]
    },
    {
      "metadata": {
        "id": "NcPa3avo08A8",
        "colab_type": "code",
        "colab": {}
      },
      "cell_type": "code",
      "source": [
        "planets.set_index('Planet',inplace=True)"
      ],
      "execution_count": 0,
      "outputs": []
    },
    {
      "metadata": {
        "id": "MWKHorwY36Db",
        "colab_type": "text"
      },
      "cell_type": "markdown",
      "source": [
        "This method allows us to set an index based on a column name (Planet in this case)\n",
        "The 'inplace=True' will set it to be permanent for all following operations. Typically, changes are made on a copy of the dataset in memory.\n",
        "inplace=True makes it permanent."
      ]
    },
    {
      "metadata": {
        "id": "GfUKzkhv3Mzv",
        "colab_type": "code",
        "colab": {
          "base_uri": "https://localhost:8080/",
          "height": 68
        },
        "outputId": "74cc6f01-758d-4929-cb7b-deb62d2aab0b"
      },
      "cell_type": "code",
      "source": [
        "planets.index"
      ],
      "execution_count": 36,
      "outputs": [
        {
          "output_type": "execute_result",
          "data": {
            "text/plain": [
              "Index(['MERCURY', 'VENUS', 'EARTH', 'MOON', 'MARS', 'JUPITER', 'SATURN',\n",
              "       'URANUS', 'NEPTUNE', 'PLUTO'],\n",
              "      dtype='object', name='Planet')"
            ]
          },
          "metadata": {
            "tags": []
          },
          "execution_count": 36
        }
      ]
    },
    {
      "metadata": {
        "id": "T8LMhs653upZ",
        "colab_type": "code",
        "colab": {}
      },
      "cell_type": "code",
      "source": [
        "planets = pd.read_csv('test_planets.csv')"
      ],
      "execution_count": 0,
      "outputs": []
    },
    {
      "metadata": {
        "id": "4xSXbyrz4qX8",
        "colab_type": "code",
        "colab": {}
      },
      "cell_type": "code",
      "source": [
        "planets.set_index('Planet',inplace=True)"
      ],
      "execution_count": 0,
      "outputs": []
    },
    {
      "metadata": {
        "id": "OAakYtAD44xd",
        "colab_type": "text"
      },
      "cell_type": "markdown",
      "source": [
        "Two lines above, I reloaded the original file with all the columns, loosing the index by doing so. I re-set the index to \"Planets\" column in the line above."
      ]
    },
    {
      "metadata": {
        "id": "reEI7fQl6WXN",
        "colab_type": "code",
        "colab": {
          "base_uri": "https://localhost:8080/",
          "height": 221
        },
        "outputId": "58abe8dc-c347-48a9-fece-abe34691f9a2"
      },
      "cell_type": "code",
      "source": [
        "pd.to_datetime(planets.FirstVisited)"
      ],
      "execution_count": 44,
      "outputs": [
        {
          "output_type": "execute_result",
          "data": {
            "text/plain": [
              "Planet\n",
              "MERCURY   1974-03-29\n",
              "VENUS     1962-08-27\n",
              "EARTH            NaT\n",
              "MOON      1959-09-12\n",
              "MARS      1965-07-15\n",
              "JUPITER   1973-12-04\n",
              "SATURN    1979-09-01\n",
              "URANUS    1986-01-24\n",
              "NEPTUNE   1989-08-25\n",
              "PLUTO     2015-07-14\n",
              "Name: FirstVisited, dtype: datetime64[ns]"
            ]
          },
          "metadata": {
            "tags": []
          },
          "execution_count": 44
        }
      ]
    },
    {
      "metadata": {
        "id": "BQ6a5qZX7Zyu",
        "colab_type": "code",
        "colab": {
          "base_uri": "https://localhost:8080/",
          "height": 34
        },
        "outputId": "5f7ec6a6-ab7d-49ad-992d-363dcdc7256f"
      },
      "cell_type": "code",
      "source": [
        "planets.loc['EARTH'].FirstVisited"
      ],
      "execution_count": 47,
      "outputs": [
        {
          "output_type": "execute_result",
          "data": {
            "text/plain": [
              "nan"
            ]
          },
          "metadata": {
            "tags": []
          },
          "execution_count": 47
        }
      ]
    },
    {
      "metadata": {
        "id": "TS53iFqT8IO7",
        "colab_type": "text"
      },
      "cell_type": "markdown",
      "source": [
        "Case **matters** on the variables."
      ]
    },
    {
      "metadata": {
        "id": "Q1RbaIFO7xBM",
        "colab_type": "code",
        "colab": {}
      },
      "cell_type": "code",
      "source": [
        "planets.FirstVisited=pd.to_datetime(planets.FirstVisited)"
      ],
      "execution_count": 0,
      "outputs": []
    },
    {
      "metadata": {
        "id": "VekyJBOu9B2r",
        "colab_type": "code",
        "colab": {
          "base_uri": "https://localhost:8080/",
          "height": 221
        },
        "outputId": "43fa1f61-27c8-433a-8caa-62789a4e2c4a"
      },
      "cell_type": "code",
      "source": [
        "planets.FirstVisited.dt.year"
      ],
      "execution_count": 49,
      "outputs": [
        {
          "output_type": "execute_result",
          "data": {
            "text/plain": [
              "Planet\n",
              "MERCURY    1974.0\n",
              "VENUS      1962.0\n",
              "EARTH         NaN\n",
              "MOON       1959.0\n",
              "MARS       1965.0\n",
              "JUPITER    1973.0\n",
              "SATURN     1979.0\n",
              "URANUS     1986.0\n",
              "NEPTUNE    1989.0\n",
              "PLUTO      2015.0\n",
              "Name: FirstVisited, dtype: float64"
            ]
          },
          "metadata": {
            "tags": []
          },
          "execution_count": 49
        }
      ]
    },
    {
      "metadata": {
        "id": "Lqv2kWaO9I18",
        "colab_type": "text"
      },
      "cell_type": "markdown",
      "source": [
        "With the \"pd.to_datetime\" method I changed the string values of the column FirstVisited to a float value. This allows for other operations on these values. "
      ]
    },
    {
      "metadata": {
        "id": "0LiWrLnM9F9b",
        "colab_type": "code",
        "colab": {
          "base_uri": "https://localhost:8080/",
          "height": 221
        },
        "outputId": "c3b7c1cf-4fa9-4bfe-dff8-535580fd711e"
      },
      "cell_type": "code",
      "source": [
        "2019-planets.FirstVisited.dt.year"
      ],
      "execution_count": 50,
      "outputs": [
        {
          "output_type": "execute_result",
          "data": {
            "text/plain": [
              "Planet\n",
              "MERCURY    45.0\n",
              "VENUS      57.0\n",
              "EARTH       NaN\n",
              "MOON       60.0\n",
              "MARS       54.0\n",
              "JUPITER    46.0\n",
              "SATURN     40.0\n",
              "URANUS     33.0\n",
              "NEPTUNE    30.0\n",
              "PLUTO       4.0\n",
              "Name: FirstVisited, dtype: float64"
            ]
          },
          "metadata": {
            "tags": []
          },
          "execution_count": 50
        }
      ]
    },
    {
      "metadata": {
        "id": "yYi4ge5C976Q",
        "colab_type": "code",
        "colab": {}
      },
      "cell_type": "code",
      "source": [
        ""
      ],
      "execution_count": 0,
      "outputs": []
    },
    {
      "metadata": {
        "id": "YOaqoYoY-BAw",
        "colab_type": "text"
      },
      "cell_type": "markdown",
      "source": [
        "With the conversion to float values, the above calculaton is possible.\n",
        "Current year (2019) minus the year the planet was visited first gives us the years since the first visit.\n",
        "\n",
        "For functions and methods in Panda, use the [Pandas documentation](https://https://pandas.pydata.org/pandas-docs/stable/) or search with your questions on [stackoverflow.](https://https://stackoverflow.com/)"
      ]
    }
  ]
}